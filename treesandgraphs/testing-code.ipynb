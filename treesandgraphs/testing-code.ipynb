{
 "cells": [
  {
   "cell_type": "code",
   "execution_count": 1,
   "metadata": {},
   "outputs": [],
   "source": [
    "from maxpathsum import *"
   ]
  },
  {
   "cell_type": "code",
   "execution_count": 2,
   "metadata": {},
   "outputs": [],
   "source": [
    "from collections import deque\n",
    "\n",
    "data = [3,5,2,1,4,6,7,8,9,10,11,12,13,14]\n",
    "n = iter(data)\n",
    "tree = TreeNode(next(n))\n",
    "fringe = deque([tree])\n",
    "while True:\n",
    "    head = fringe.popleft()\n",
    "    try:\n",
    "        head.left = TreeNode(next(n))\n",
    "        fringe.append(head.left)\n",
    "        head.right = TreeNode(next(n))\n",
    "        fringe.append(head.right)\n",
    "    except StopIteration:\n",
    "        break"
   ]
  },
  {
   "cell_type": "code",
   "execution_count": 10,
   "metadata": {},
   "outputs": [],
   "source": [
    "def max_gain(node, max_sum):\n",
    "\n",
    "    if not node:\n",
    "        return 0\n",
    "\n",
    "    #max sum on the right and left sub-trees\n",
    "    left_gain = max(max_gain(node.left,max_sum),0)\n",
    "    right_gain = max(max_gain(node.right,max_sum),0)\n",
    "\n",
    "    #sum for every newpath\n",
    "    newpath = node.val + left_gain + right_gain\n",
    "\n",
    "    #max sum\n",
    "    max_sum = max(max_sum, newpath)\n",
    "    print(max_sum)\n",
    "\n",
    "    #return gain\n",
    "    return node.val + max(left_gain, right_gain)\n",
    "\n"
   ]
  },
  {
   "cell_type": "code",
   "execution_count": 12,
   "metadata": {},
   "outputs": [
    {
     "name": "stdout",
     "output_type": "stream",
     "text": [
      "8\n",
      "9\n",
      "18\n",
      "10\n",
      "11\n",
      "25\n",
      "30\n",
      "12\n",
      "13\n",
      "31\n",
      "14\n",
      "21\n",
      "42\n",
      "46\n"
     ]
    },
    {
     "data": {
      "text/plain": [
       "26"
      ]
     },
     "execution_count": 12,
     "metadata": {},
     "output_type": "execute_result"
    }
   ],
   "source": [
    "max_gain(tree,-float('inf'))"
   ]
  }
 ],
 "metadata": {
  "interpreter": {
   "hash": "0dc034823c925ab72675d722f7a4a6e69cee72befff823788c49c0ef66a71113"
  },
  "kernelspec": {
   "display_name": "Python 3.8.10 64-bit",
   "name": "python3"
  },
  "language_info": {
   "codemirror_mode": {
    "name": "ipython",
    "version": 3
   },
   "file_extension": ".py",
   "mimetype": "text/x-python",
   "name": "python",
   "nbconvert_exporter": "python",
   "pygments_lexer": "ipython3",
   "version": "3.8.10"
  },
  "orig_nbformat": 4
 },
 "nbformat": 4,
 "nbformat_minor": 2
}
